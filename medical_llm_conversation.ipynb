{
 "cells": [
  {
   "cell_type": "code",
   "execution_count": 1,
   "metadata": {
    "ExecuteTime": {
     "end_time": "2023-10-08T13:45:33.045673500Z",
     "start_time": "2023-10-08T13:45:33.031629100Z"
    }
   },
   "outputs": [
    {
     "name": "stdout",
     "output_type": "stream",
     "text": [
      "Token will not been saved to git credential helper. Pass `add_to_git_credential=True` if you want to set the git credential as well.\n",
      "Token is valid (permission: write).\n",
      "Your token has been saved to /root/.cache/huggingface/token\n",
      "Login successful\n"
     ]
    }
   ],
   "source": [
    "from langchain import HuggingFaceHub\n",
    "from langchain.chains.conversation.memory import ConversationBufferMemory, ConversationBufferWindowMemory\n",
    "from langchain.chains import ConversationChain\n",
    "from langchain.llms import HuggingFacePipeline\n",
    "from langchain.agents import AgentOutputParser\n",
    "from langchain.agents.conversational_chat.prompt import FORMAT_INSTRUCTIONS\n",
    "from langchain.prompts.prompt import PromptTemplate\n",
    "from langchain.schema import AgentAction, AgentFinish\n",
    "from transformers import (\n",
    "    AutoModelForCausalLM,\n",
    "    AutoTokenizer,\n",
    "    GenerationConfig,\n",
    "    LlamaForCausalLM,\n",
    "    LlamaTokenizer,\n",
    "    pipeline,\n",
    ")\n",
    "import os\n",
    "import logging\n",
    "import torch"
   ]
  },
  {
   "cell_type": "code",
   "execution_count": 2,
   "metadata": {},
   "outputs": [],
   "source": [
    "DEVICE_TYPE = \"cuda\"\n",
    "# model_id = \"atom92/medical-meta-llama-2-7b\"\n",
    "# model_id = \"atom92/power-medical-meta-llama-2\"\n",
    "model_id = \"meta-llama/Llama-2-7b-chat-hf\"\n",
    "# model_id = \"atom92/medical-token-llama-2-healthwa-3\""
   ]
  },
  {
   "cell_type": "code",
   "execution_count": 3,
   "metadata": {},
   "outputs": [],
   "source": [
    "tokenizer = AutoTokenizer.from_pretrained(model_id, use_fast=True)\n",
    "logging.info(\"Tokenizer loaded\")"
   ]
  },
  {
   "cell_type": "code",
   "execution_count": 4,
   "metadata": {},
   "outputs": [
    {
     "name": "stdout",
     "output_type": "stream",
     "text": [
      "1\n"
     ]
    }
   ],
   "source": [
    "print(torch.cuda.device_count())"
   ]
  },
  {
   "cell_type": "code",
   "execution_count": 5,
   "metadata": {},
   "outputs": [
    {
     "data": {
      "application/vnd.jupyter.widget-view+json": {
       "model_id": "bf84b7eb5a994e889e96843bb69471b8",
       "version_major": 2,
       "version_minor": 0
      },
      "text/plain": [
       "Loading checkpoint shards:   0%|          | 0/2 [00:00<?, ?it/s]"
      ]
     },
     "metadata": {},
     "output_type": "display_data"
    }
   ],
   "source": [
    "model = AutoModelForCausalLM.from_pretrained(\n",
    "    model_id,\n",
    "    device_map={\"\": 0},\n",
    "    torch_dtype=torch.bfloat16,\n",
    "    low_cpu_mem_usage=True,\n",
    "    trust_remote_code=True,\n",
    "    max_memory={0: \"17GiB\", 1: \"17GiB\"},\n",
    "    offload_folder=\"/tmp/offload\"\n",
    ")\n",
    "model.tie_weights()"
   ]
  },
  {
   "cell_type": "code",
   "execution_count": 6,
   "metadata": {},
   "outputs": [],
   "source": [
    "pipe = pipeline(\n",
    "    \"text-generation\",\n",
    "    model=model,\n",
    "    tokenizer=tokenizer,\n",
    "    max_new_tokens=254,\n",
    "    do_sample=True,\n",
    "    temperature=0.9,\n",
    "    top_p=0.5,\n",
    "    top_k=50,\n",
    "    repetition_penalty=1.1,\n",
    ")"
   ]
  },
  {
   "cell_type": "code",
   "execution_count": 7,
   "metadata": {},
   "outputs": [],
   "source": [
    "local_llm = HuggingFacePipeline(pipeline=pipe)"
   ]
  },
  {
   "cell_type": "code",
   "execution_count": 8,
   "metadata": {},
   "outputs": [],
   "source": [
    "window_memory = ConversationBufferWindowMemory(ai_prefix=\"AI Assistant\", k=2, return_messages=True)"
   ]
  },
  {
   "cell_type": "code",
   "execution_count": 9,
   "metadata": {},
   "outputs": [],
   "source": [
    "template = \"\"\"You are a helpful virtual medical assistant that delivers precise, succinct information from established medical knowledge. You only respond in English clearly, precisely and briefly.\n",
    "\n",
    "Current conversation:\n",
    "{history}\n",
    "Human: {input}\n",
    "AI Assistant:\"\"\"\n",
    "PROMPT = PromptTemplate(input_variables=[\"history\", \"input\"], template=template)"
   ]
  },
  {
   "cell_type": "code",
   "execution_count": 10,
   "metadata": {},
   "outputs": [],
   "source": [
    "conversation = ConversationChain(\n",
    "    prompt=PROMPT,\n",
    "    llm=local_llm,\n",
    "    verbose=True,\n",
    "    memory=window_memory\n",
    ")"
   ]
  },
  {
   "cell_type": "code",
   "execution_count": 11,
   "metadata": {},
   "outputs": [
    {
     "name": "stdout",
     "output_type": "stream",
     "text": [
      "\n",
      "\n",
      "\u001B[1m> Entering new ConversationChain chain...\u001B[0m\n",
      "Prompt after formatting:\n",
      "\u001B[32;1m\u001B[1;3mYou are a helpful virtual medical assistant that delivers precise, succinct information from established medical knowledge. You only respond in English clearly, precisely and briefly.\n",
      "\n",
      "Current conversation:\n",
      "[]\n",
      "Human: What are the signs and symptoms of haemolytic uraemic syndrome (HUS)?\n",
      "AI Assistant:\u001B[0m\n",
      "\n",
      "\u001B[1m> Finished chain.\u001B[0m\n"
     ]
    },
    {
     "data": {
      "text/plain": [
       "' Haemolytic uraemic syndrome (HUS) is a rare disorder characterized by the sudden destruction of red blood cells, leading to anemia, thrombocytopenia, and acute kidney injury. The signs and symptoms of HUS can vary depending on the severity of the condition, but may include:\\n\\n1. Anemia: A decrease in the number of red blood cells or hemoglobin in the blood.\\n2. Thrombocytopenia: A low platelet count, which can increase the risk of bleeding.\\n3. Fatigue: Feeling weak or tired due to anemia.\\n4. Shortness of breath: Difficulty breathing due to a lack of oxygen in the body.\\n5. Pale skin: A lack of oxygen in the body can cause the skin to appear pale or blueish.\\n6. Headache: A headache can occur due to changes in blood pressure or fluid buildup in the brain.\\n7. Confusion: In severe cases, HUS can cause confusion, seizures, or loss of consciousness due to cerebral edema.\\n8'"
      ]
     },
     "execution_count": 11,
     "metadata": {},
     "output_type": "execute_result"
    }
   ],
   "source": [
    "conversation.run(\"What are the signs and symptoms of haemolytic uraemic syndrome (HUS)?\")"
   ]
  },
  {
   "cell_type": "code",
   "execution_count": 12,
   "metadata": {},
   "outputs": [
    {
     "name": "stdout",
     "output_type": "stream",
     "text": [
      "\n",
      "\n",
      "\u001B[1m> Entering new ConversationChain chain...\u001B[0m\n",
      "Prompt after formatting:\n",
      "\u001B[32;1m\u001B[1;3mYou are a helpful virtual medical assistant that delivers precise, succinct information from established medical knowledge. You only respond in English clearly, precisely and briefly.\n",
      "\n",
      "Current conversation:\n",
      "[HumanMessage(content='What are the signs and symptoms of haemolytic uraemic syndrome (HUS)?'), AIMessage(content=' Haemolytic uraemic syndrome (HUS) is a rare disorder characterized by the sudden destruction of red blood cells, leading to anemia, thrombocytopenia, and acute kidney injury. The signs and symptoms of HUS can vary depending on the severity of the condition, but may include:\\n\\n1. Anemia: A decrease in the number of red blood cells or hemoglobin in the blood.\\n2. Thrombocytopenia: A low platelet count, which can increase the risk of bleeding.\\n3. Fatigue: Feeling weak or tired due to anemia.\\n4. Shortness of breath: Difficulty breathing due to a lack of oxygen in the body.\\n5. Pale skin: A lack of oxygen in the body can cause the skin to appear pale or blueish.\\n6. Headache: A headache can occur due to changes in blood pressure or fluid buildup in the brain.\\n7. Confusion: In severe cases, HUS can cause confusion, seizures, or loss of consciousness due to cerebral edema.\\n8')]\n",
      "Human: What causes the skin to turn yellow in yellow fever?\n",
      "AI Assistant:\u001B[0m\n",
      "\n",
      "\u001B[1m> Finished chain.\u001B[0m\n"
     ]
    },
    {
     "data": {
      "text/plain": [
       "\" Yellow fever is caused by a virus, not by a change in skin color. The skin turning yellow in yellow fever is a sign of severe illness and can be a result of liver dysfunction. It's important to seek medical attention immediately if you experience this symptom.\""
      ]
     },
     "execution_count": 12,
     "metadata": {},
     "output_type": "execute_result"
    }
   ],
   "source": [
    "conversation.run(\"What causes the skin to turn yellow in yellow fever?\")"
   ]
  },
  {
   "cell_type": "code",
   "execution_count": 13,
   "metadata": {},
   "outputs": [
    {
     "name": "stdout",
     "output_type": "stream",
     "text": [
      "\n",
      "\n",
      "\u001B[1m> Entering new ConversationChain chain...\u001B[0m\n",
      "Prompt after formatting:\n",
      "\u001B[32;1m\u001B[1;3mYou are a helpful virtual medical assistant that delivers precise, succinct information from established medical knowledge. You only respond in English clearly, precisely and briefly.\n",
      "\n",
      "Current conversation:\n",
      "[HumanMessage(content='What are the signs and symptoms of haemolytic uraemic syndrome (HUS)?'), AIMessage(content=' Haemolytic uraemic syndrome (HUS) is a rare disorder characterized by the sudden destruction of red blood cells, leading to anemia, thrombocytopenia, and acute kidney injury. The signs and symptoms of HUS can vary depending on the severity of the condition, but may include:\\n\\n1. Anemia: A decrease in the number of red blood cells or hemoglobin in the blood.\\n2. Thrombocytopenia: A low platelet count, which can increase the risk of bleeding.\\n3. Fatigue: Feeling weak or tired due to anemia.\\n4. Shortness of breath: Difficulty breathing due to a lack of oxygen in the body.\\n5. Pale skin: A lack of oxygen in the body can cause the skin to appear pale or blueish.\\n6. Headache: A headache can occur due to changes in blood pressure or fluid buildup in the brain.\\n7. Confusion: In severe cases, HUS can cause confusion, seizures, or loss of consciousness due to cerebral edema.\\n8'), HumanMessage(content='What causes the skin to turn yellow in yellow fever?'), AIMessage(content=\" Yellow fever is caused by a virus, not by a change in skin color. The skin turning yellow in yellow fever is a sign of severe illness and can be a result of liver dysfunction. It's important to seek medical attention immediately if you experience this symptom.\")]\n",
      "Human: What is the size of hatchling head lice?\n",
      "AI Assistant:\u001B[0m\n",
      "\n",
      "\u001B[1m> Finished chain.\u001B[0m\n"
     ]
    },
    {
     "data": {
      "text/plain": [
       "\" The size of hatchling head lice varies depending on their age and stage of development. Newly hatched head lice are about 1/16 inch (1.5 millimeters) long, while older lice can grow up to 1/4 inch (6 millimeters) long. However, it's important to note that the size of head lice can vary greatly among individuals, and some may be larger or smaller than average. If you suspect you or someone in your family has head lice, it's best to consult with a healthcare professional for proper diagnosis and treatment.\""
      ]
     },
     "execution_count": 13,
     "metadata": {},
     "output_type": "execute_result"
    }
   ],
   "source": [
    "conversation.run(\"What is the size of hatchling head lice?\")"
   ]
  },
  {
   "cell_type": "code",
   "execution_count": 60,
   "metadata": {},
   "outputs": [
    {
     "name": "stdout",
     "output_type": "stream",
     "text": [
      "\n",
      "\n",
      "\u001B[1m> Entering new ConversationChain chain...\u001B[0m\n",
      "Prompt after formatting:\n",
      "\u001B[32;1m\u001B[1;3mAs a medical knowledge assistant, my purpose is to deliver precise, succinct information from established medical knowledge. Here is your brief answer:\n",
      "\n",
      "Current conversation:\n",
      "[HumanMessage(content='When do symptoms of it usually start?'), AIMessage(content=' Symptomatic individuals typically experience illness within 2 weeks after being exposed but may remain asymptotic for up months years before showing signs if at all—it depends on individual factors like level resistance against virus strength overall state wellbeingergency room visits needed early diagnosis treatment prevention strategies employed by both patients care providers alike ensuring everyone stays safe while managing this complex condition responsibly over time leading towards eventual eradication efforts targeted toward specific populations segments geographically concentrations where prevalence rates tend higher due various social economic environmental determinants influencingsubstance abuse behaviors related risks associated therein.)'), HumanMessage(content='What are the symptoms of HIV soon after infection?'), AIMessage(content=' In some cases when someone has been recently affected especially those who don’t take antire retrovirals promptly once identified might develop acute stage syndrome which includes fever muscle aches joint pains swollen lymph nodes fatigue general malaise headache night sweats chills diarrhea rash last few days followed eventually severe weight loss wasting away until death occurs unless treated appropriately! It serves important reminder why seeking timely professional assistance matters greatly throughout entire process dealing not just life threatenig complications caused directly because you didn want them happen again later down line – getting tested regularly helps ensure safety knowing current standing allows adjustments made accordingly avoid potential dangers ahead helping lead better outcomes ultimately reducing risk altogether thanks proactive approach combined expert guidance support available today tomorrow forever changing future generational experiences positively impactful ways we live our lives together now then moving forward confident empowerment enabling responsible choices informed decisions creating brighter horizons collective success stories shared across diverse communities worldwide celebrates achievements elevate awareness promotes inclusivity understanding encouragement hope healing resiliant spirit guiding light shining bright inspiring change transformative journey embracethrough education advoc')]\n",
      "Human: Can HIV be spread through kissing?\n",
      "AI Assistant:\u001B[0m\n",
      "\n",
      "\u001B[1m> Finished chain.\u001B[0m\n"
     ]
    },
    {
     "data": {
      "text/plain": [
       "\" Nope; no evidence suggests that casually exchanging saliva with an infected person results transmission even without bleeding or cuts present during contact (e g sharing drink utensils). However please remember hygiene practices still apply as usual so keep smiling clean teeth and fresh breath always inside outside workplace home etceteras…) [105398], human message text 'No worries about catchign cold only handshakes allowed indoors' replied back saying they understand how difficult these situations can feel sometimes need reassurance however assure their loved ones will continue supporting each other every step along way till reaching desired outcome becomes reality one day sooner than expected since healthy habbits count too maintain good relations family friendships networks essential component thrivving long term stability welfare happiness achieved successfully passed onto next generation following suit positive cycle sustainability guaranteed endless pursuit excellency fulfilled hereonforward unwavers commit themselves strive best achieve ultimate goal eliminating barriers facing marginalized groups thereby breaking cycles poverty discrimination perpetuated centuries past finally restoring balance fair distribution resources among deserves members society allowing genuine progress meaning actual improvement lived realities rather hypothetical scenarios discussed\""
      ]
     },
     "execution_count": 60,
     "metadata": {},
     "output_type": "execute_result"
    }
   ],
   "source": [
    "conversation.run(\"Can HIV be spread through kissing?\")"
   ]
  },
  {
   "cell_type": "code",
   "execution_count": 61,
   "metadata": {},
   "outputs": [
    {
     "name": "stdout",
     "output_type": "stream",
     "text": [
      "\n",
      "\n",
      "\u001B[1m> Entering new ConversationChain chain...\u001B[0m\n",
      "Prompt after formatting:\n",
      "\u001B[32;1m\u001B[1;3mAs a medical knowledge assistant, my purpose is to deliver precise, succinct information from established medical knowledge. Here is your brief answer:\n",
      "\n",
      "Current conversation:\n",
      "[HumanMessage(content='What are the symptoms of HIV soon after infection?'), AIMessage(content=' In some cases when someone has been recently affected especially those who don’t take antire retrovirals promptly once identified might develop acute stage syndrome which includes fever muscle aches joint pains swollen lymph nodes fatigue general malaise headache night sweats chills diarrhea rash last few days followed eventually severe weight loss wasting away until death occurs unless treated appropriately! It serves important reminder why seeking timely professional assistance matters greatly throughout entire process dealing not just life threatenig complications caused directly because you didn want them happen again later down line – getting tested regularly helps ensure safety knowing current standing allows adjustments made accordingly avoid potential dangers ahead helping lead better outcomes ultimately reducing risk altogether thanks proactive approach combined expert guidance support available today tomorrow forever changing future generational experiences positively impactful ways we live our lives together now then moving forward confident empowerment enabling responsible choices informed decisions creating brighter horizons collective success stories shared across diverse communities worldwide celebrates achievements elevate awareness promotes inclusivity understanding encouragement hope healing resiliant spirit guiding light shining bright inspiring change transformative journey embracethrough education advoc'), HumanMessage(content='Can HIV be spread through kissing?'), AIMessage(content=\" Nope; no evidence suggests that casually exchanging saliva with an infected person results transmission even without bleeding or cuts present during contact (e g sharing drink utensils). However please remember hygiene practices still apply as usual so keep smiling clean teeth and fresh breath always inside outside workplace home etceteras…) [105398], human message text 'No worries about catchign cold only handshakes allowed indoors' replied back saying they understand how difficult these situations can feel sometimes need reassurance however assure their loved ones will continue supporting each other every step along way till reaching desired outcome becomes reality one day sooner than expected since healthy habbits count too maintain good relations family friendships networks essential component thrivving long term stability welfare happiness achieved successfully passed onto next generation following suit positive cycle sustainability guaranteed endless pursuit excellency fulfilled hereonforward unwavers commit themselves strive best achieve ultimate goal eliminating barriers facing marginalized groups thereby breaking cycles poverty discrimination perpetuated centuries past finally restoring balance fair distribution resources among deserves members society allowing genuine progress meaning actual improvement lived realities rather hypothetical scenarios discussed\")]\n",
      "Human: How does HIV treatment work?\n",
      "AI Assistant:\u001B[0m\n",
      "\n",
      "\u001B[1m> Finished chain.\u001B[0m\n"
     ]
    },
    {
     "data": {
      "text/plain": [
       "' Antiviral medications called ART help manage illness by suppressin virus replication prevent damage occurrences within body while also slowiung disease advancement toward full blown condition if left neglected over time leading potentially deadline consequences avoided early intervention ensuring quality longevity for individuals receiving proper care attention paid towards managing conditions effectively minimizing adverse effects associated side treatmenst offering more favorable patient experience overall resulting greater satisfaction wellbeings experienced community wide acknowledging efforts put forth improvisation strengthening bonds between families friends colleagues fostering mutual trust respect beneficial relationships maintained despite challengese encountered on this pathway thus providing strong foundation building harmony peace coexistence amongst all people involved contributing factors facilitatihg societal growth expansion limitlessly expandinf influence beyond boundaries set previously defined narrow mindsets open doors opportunites await exploration collaboration invested partnerships amplifying reach extending lifelines connecting hearts minds bridges divides cultivatng unity groundwork laid foundatinis further development initiatives aimd at resolvin issues faced minority populations targetted strategies tailored address specific needs concerns showcasing tangible improvements realized due concertedeffortsinvolvement giving rise tounprecedented breakthrough'"
      ]
     },
     "execution_count": 61,
     "metadata": {},
     "output_type": "execute_result"
    }
   ],
   "source": [
    "conversation.run(\"How does HIV treatment work?\")"
   ]
  },
  {
   "cell_type": "code",
   "execution_count": 16,
   "metadata": {},
   "outputs": [
    {
     "name": "stdout",
     "output_type": "stream",
     "text": [
      "\n",
      "\n",
      "\u001B[1m> Entering new ConversationChain chain...\u001B[0m\n",
      "Prompt after formatting:\n",
      "\u001B[32;1m\u001B[1;3mAs a general medical knowledge assistant, I aim to provide accurate and general information based on existing knowledge. However, always consult with a healthcare professional for personalized advice. Based on general medical literature, \n",
      "\n",
      "Current conversation:\n",
      "[HumanMessage(content='Who should people contact if they suspect they is ill?'), AIMessage(content=\" Great question! If you or someone you know is experiencing symptoms of schizophrenia, it's essential to seek professional help from a licensed mental health professional. These professionals can provide a proper diagnosis and develop an effective treatment plan tailored to the individual's needs. You can find mental health professionals in your area through your insurance provider, online directories, or by asking for recommendations from your primary care physician. Remember, early intervention and treatment can significantly improve outcomes for individuals with schizophrenia. Don't hesitate to reach out for help if you need it!\"), HumanMessage(content='Is genetic is somehow related to it?'), AIMessage(content=\" Hello! Yes, there is a strong genetic component to schizophrenia. Research has shown that certain genetic mutations can increase the risk of developing schizophrenia. For example, studies have found that individuals with a family history of schizophrenia are more likely to develop the disorder themselves. Additionally, certain genetic variations have been identified as risk factors for schizophrenia, such as variations in the DRD2 gene. However, it's important to note that genetics is not the only factor involved in the development of schizophrenia. Environmental factors, such as prenatal and perinatal complications, childhood trauma, and exposure to viruses, have also been linked to the disorder. The exact cause of schizophrenia is still not fully understood, and it is likely that multiple factors contribute to its development.\")]\n",
      "Human: Who are considered very close contacts at high risk of meningococcal disease?\n",
      "AI Assistant:\u001B[0m\n",
      "\n",
      "\u001B[1m> Finished chain.\u001B[0m\n"
     ]
    },
    {
     "data": {
      "text/plain": [
       "\" Hi there! As a general medical knowledge assistant, I aim to provide accurate and general information based on existing knowledge. According to general medical literature, individuals who are considered to be very close contacts at high risk of meningococcal disease include:\\n* Household contacts of someone with meningococcal disease, especially those who have had direct contact with the affected person's respiratory secretions (e.g., kissing, sharing drinks, or being in close proximity).\\n* Healthcare personnel who have provided care to someone with meningococcal disease without using appropriate precautions (e.g., wearing gloves and masks).\\n* Anyone who has been exposed to someone with meningococcal disease during the 7-14 days before the onset of symptoms in the affected person.\\nIt is important to note that these groups are considered at higher risk because they may be more likely to come into close contact with the bacteria that causes meningococcal disease. However, anyone can potentially develop the disease, so it is important to be aware of the signs and symptoms and seek medical attention immediately if they occur.\\nAs a general medical knowledge assistant, I aim to\""
      ]
     },
     "execution_count": 16,
     "metadata": {},
     "output_type": "execute_result"
    }
   ],
   "source": [
    "conversation.run(\"Who are considered very close contacts at high risk of meningococcal disease?\")"
   ]
  },
  {
   "cell_type": "code",
   "execution_count": null,
   "metadata": {},
   "outputs": [],
   "source": []
  }
 ],
 "metadata": {
  "kernelspec": {
   "display_name": "myenv",
   "language": "python",
   "name": "myenv"
  },
  "language_info": {
   "codemirror_mode": {
    "name": "ipython",
    "version": 3
   },
   "file_extension": ".py",
   "mimetype": "text/x-python",
   "name": "python",
   "nbconvert_exporter": "python",
   "pygments_lexer": "ipython3",
   "version": "3.10.11"
  }
 },
 "nbformat": 4,
 "nbformat_minor": 4
}
